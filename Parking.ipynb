{
 "cells": [
  {
   "cell_type": "code",
   "execution_count": 47,
   "id": "18e7e99c-471d-4d80-bfb0-213c932dc60e",
   "metadata": {},
   "outputs": [
    {
     "name": "stderr",
     "output_type": "stream",
     "text": [
      "/Users/chilichen/opt/anaconda3/lib/python3.8/site-packages/IPython/core/interactiveshell.py:3165: DtypeWarning: Columns (20,31,32) have mixed types.Specify dtype option on import or set low_memory=False.\n",
      "  has_raised = await self.run_ast_nodes(code_ast.body, cell_name,\n"
     ]
    }
   ],
   "source": [
    "import pandas as pd\n",
    "df = pd.read_csv(\"311_Service_Requests_2020.csv\")"
   ]
  },
  {
   "cell_type": "code",
   "execution_count": 48,
   "id": "b39a8cac-1c8d-44eb-9a85-7664a9499c15",
   "metadata": {},
   "outputs": [
    {
     "name": "stderr",
     "output_type": "stream",
     "text": [
      "<ipython-input-48-a1fb33bb793b>:1: UserWarning: Boolean Series key will be reindexed to match DataFrame index.\n",
      "  ownzip_parking = len(df[df[\"Incident Zip\"] == 10027.0][df[\"Complaint Type\"] == \"Illegal Parking\"])\n"
     ]
    }
   ],
   "source": [
    "ownzip_parking = len(df[df[\"Incident Zip\"] == 10027.0][df[\"Complaint Type\"] == \"Illegal Parking\"])\n",
    "ownzip_incidents = len(df[df[\"Incident Zip\"] == 10027.0])\n",
    "own = ownzip_parking / ownzip_incidents\n",
    "total_parking = len(df[df[\"Complaint Type\"] == \"Illegal Parking\"])\n",
    "total_incidents = len(df)\n",
    "total = total_parking / total_incidents"
   ]
  },
  {
   "cell_type": "code",
   "execution_count": 49,
   "id": "c36867d3-3886-4b2c-8dc4-11426c2993d7",
   "metadata": {},
   "outputs": [
    {
     "data": {
      "text/plain": [
       "False"
      ]
     },
     "execution_count": 49,
     "metadata": {},
     "output_type": "execute_result"
    }
   ],
   "source": [
    "if own > total:\n",
    "    higher_parking_proportion = True\n",
    "else:\n",
    "    higher_parking_proportion = False\n",
    "higher_parking_proportion"
   ]
  },
  {
   "cell_type": "code",
   "execution_count": null,
   "id": "b44095f7-aad6-44b9-92aa-1c5118b4e87f",
   "metadata": {},
   "outputs": [],
   "source": []
  }
 ],
 "metadata": {
  "kernelspec": {
   "display_name": "Python 3",
   "language": "python",
   "name": "python3"
  },
  "language_info": {
   "codemirror_mode": {
    "name": "ipython",
    "version": 3
   },
   "file_extension": ".py",
   "mimetype": "text/x-python",
   "name": "python",
   "nbconvert_exporter": "python",
   "pygments_lexer": "ipython3",
   "version": "3.8.8"
  }
 },
 "nbformat": 4,
 "nbformat_minor": 5
}
