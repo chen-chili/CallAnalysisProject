{
 "cells": [
  {
   "cell_type": "code",
   "execution_count": 10,
   "metadata": {},
   "outputs": [],
   "source": [
    "import pandas as pd\n",
    "from dateutil.parser import parse\n",
    "\n"
   ]
  },
  {
   "cell_type": "code",
   "execution_count": 11,
   "metadata": {},
   "outputs": [
    {
     "name": "stderr",
     "output_type": "stream",
     "text": [
      "/Users/joycesong/opt/anaconda3/lib/python3.7/site-packages/ipykernel_launcher.py:4: SettingWithCopyWarning: \n",
      "A value is trying to be set on a copy of a slice from a DataFrame.\n",
      "Try using .loc[row_indexer,col_indexer] = value instead\n",
      "\n",
      "See the caveats in the documentation: https://pandas.pydata.org/pandas-docs/stable/user_guide/indexing.html#returning-a-view-versus-a-copy\n",
      "  after removing the cwd from sys.path.\n"
     ]
    }
   ],
   "source": [
    "df = pd.read_csv(\"311_Service_Requests_2020.csv\",low_memory=False)\n",
    "df_10027 = df[df[\"Incident Zip\"]==10027]\n",
    "\n",
    "df_10027[\"Dates\"] = df_10027[\"Created Date\"].apply(lambda x: parse(str(x)))\n",
    "top10_type = df_10027.groupby(\"Complaint Type\").count().sort_values(by=\"Unique Key\",ascending=False)[\"Unique Key\"].head(10)\n",
    "\n",
    "df_10027_2020 = df_10027[df_10027[\"Dates\"].dt.year==2020]\n",
    "top10 = df_10027_2020[df_10027_2020[\"Complaint Type\"].isin(top10_type.index)].groupby(\"Complaint Type\").count().sort_values(by=\"Unique Key\",ascending=False)[\"Unique Key\"]"
   ]
  },
  {
   "cell_type": "code",
   "execution_count": 12,
   "metadata": {},
   "outputs": [
    {
     "name": "stdout",
     "output_type": "stream",
     "text": [
      "<class 'pandas.core.series.Series'>\n",
      "Complaint Type\n",
      "Noise - Residential            3610\n",
      "Noise - Street/Sidewalk        3087\n",
      "HEAT/HOT WATER                 2138\n",
      "Illegal Parking                1118\n",
      "Non-Emergency Police Matter     862\n",
      "Illegal Fireworks               779\n",
      "Noise - Vehicle                 647\n",
      "UNSANITARY CONDITION            628\n",
      "PLUMBING                        465\n",
      "Noise                           443\n",
      "Name: Unique Key, dtype: int64\n"
     ]
    }
   ],
   "source": [
    "print(type(top10))\n",
    "print(top10)"
   ]
  },
  {
   "cell_type": "code",
   "execution_count": null,
   "metadata": {},
   "outputs": [],
   "source": []
  },
  {
   "cell_type": "code",
   "execution_count": null,
   "metadata": {},
   "outputs": [],
   "source": []
  },
  {
   "cell_type": "code",
   "execution_count": null,
   "metadata": {},
   "outputs": [],
   "source": []
  },
  {
   "cell_type": "code",
   "execution_count": 46,
   "metadata": {},
   "outputs": [],
   "source": []
  },
  {
   "cell_type": "code",
   "execution_count": null,
   "metadata": {},
   "outputs": [],
   "source": []
  },
  {
   "cell_type": "code",
   "execution_count": null,
   "metadata": {},
   "outputs": [],
   "source": []
  }
 ],
 "metadata": {
  "kernelspec": {
   "display_name": "Python 3",
   "language": "python",
   "name": "python3"
  },
  "language_info": {
   "codemirror_mode": {
    "name": "ipython",
    "version": 3
   },
   "file_extension": ".py",
   "mimetype": "text/x-python",
   "name": "python",
   "nbconvert_exporter": "python",
   "pygments_lexer": "ipython3",
   "version": "3.7.6"
  }
 },
 "nbformat": 4,
 "nbformat_minor": 5
}
